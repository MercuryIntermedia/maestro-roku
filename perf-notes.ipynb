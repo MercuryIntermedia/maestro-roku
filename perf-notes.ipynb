{
 "cells": [
  {
   "cell_type": "markdown",
   "metadata": {},
   "source": [
    "let's optimize the list mapping, to take less ram in ItemDelegateMixin.bs\n",
    "\n",
    "This can save 1mb-1.5mb per 1000 cells"
   ]
  },
  {
   "cell_type": "code",
   "execution_count": null,
   "metadata": {
    "vscode": {
     "languageId": "brighterscript"
    }
   },
   "outputs": [],
   "source": [
    "if instance <> invalid\n",
    "  funcMap = {\n",
    "    \"onDidEnter\": \"didEnter\"\n",
    "    \"onDidExit\": \"didExit\"\n",
    "    \"onWillGainFocus\": \"willGainFocus\"\n",
    "    \"onWillLoseFocus\": \"willLoseFocus\"\n",
    "    \"onDidGainFocus\": \"didGainFocus\"\n",
    "    \"onDidLoseFocus\": \"didLoseFocus\"\n",
    "    \"onGainingFocus\": \"gainingFocus\"\n",
    "    \"onLosingFocus\": \"losingFocus\"\n",
    "    \"onScrollingUpdate\": \"scrollUpdate\"\n",
    "  }\n",
    "\n",
    "\n",
    "'  IDEAS\n",
    "m.list@.reset()\n"
   ]
  }
 ],
 "metadata": {
  "language_info": {
   "name": "python"
  },
  "orig_nbformat": 4
 },
 "nbformat": 4,
 "nbformat_minor": 2
}
